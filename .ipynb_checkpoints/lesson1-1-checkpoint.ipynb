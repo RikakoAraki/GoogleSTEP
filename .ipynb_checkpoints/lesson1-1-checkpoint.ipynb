{
 "cells": [
  {
   "cell_type": "code",
   "execution_count": 50,
   "id": "c04fe6d7-c13f-4967-b3d7-200c74699909",
   "metadata": {},
   "outputs": [
    {
     "name": "stdin",
     "output_type": "stream",
     "text": [
      "Enter a word :  cat\n"
     ]
    },
    {
     "name": "stdout",
     "output_type": "stream",
     "text": [
      "Anagrams found:\n",
      "act\n",
      "cat\n"
     ]
    }
   ],
   "source": [
    "def sort_word(word) : # 文字列をソートする関数\n",
    "    l_sorted = sorted(word)\n",
    "    s_sorted = ''.join(l_sorted)\n",
    "    return s_sorted\n",
    "\n",
    "def binary_search(data, value):\n",
    "    result = []\n",
    "    left = 0            # 探索する範囲の左端を設定\n",
    "    right = len(data) - 1            # 探索する範囲の右端を設定\n",
    "    while left <= right:\n",
    "        mid = (left + right) // 2            # 探索する範囲の中央を計算\n",
    "        \n",
    "        if data[mid][0] == value: # 中央の値と一致した場合は位置を返す\n",
    "            # 左右に同じ値があるかどうか探す\n",
    "            # 同じ値があったらresultリストに記録する\n",
    "            i = mid\n",
    "            while i >= 0 and data[i][0] == value:\n",
    "                result.append(data[i][1])\n",
    "                i -= 1\n",
    "            i = mid + 1\n",
    "            while i < len(data) and data[i][0] == value:\n",
    "                result.append(data[i][1])\n",
    "                i += 1\n",
    "            break\n",
    "        elif data[mid][0] < value: # 中央の値より大きい場合は探索範囲の左を変える\n",
    "            left = mid + 1\n",
    "        else: # 中央の値より小さい場合は探索範囲の右を変える\n",
    "            right = mid - 1\n",
    "            \n",
    "    return result\n",
    "    \n",
    "    \n",
    "\n",
    "def better_solution(random_word, dictionary) :\n",
    "    sorted_random_word = sort_word(random_word) # ランダム文字列をソート\n",
    "    \n",
    "    new_dictionary = [] # ソートされた辞書を作成\n",
    "    \n",
    "    # ソートした辞書の単語と元の単語を合わせて保存\n",
    "    # [(act,act), (act,cat), (acn,can), ...]\n",
    "    for word in dictionary:\n",
    "        new_dictionary.append((sort_word(word), word))\n",
    "\n",
    "    # リストを1番目の要素でソート\n",
    "    # [(acn,can), (act,act), (act,cat), ...]\n",
    "    new_dictionary = sorted(new_dictionary)\n",
    "\n",
    "    # 二分探索して元の単語を返す\n",
    "    anagram = binary_search(new_dictionary, sorted_random_word)\n",
    "    return anagram\n",
    "\n",
    "\n",
    "# 辞書を読み込む\n",
    "path = 'words.txt'\n",
    "# 1行ずつリストとして読み込み\n",
    "with open(path) as f:\n",
    "    dictionary = [s.rstrip() for s in f.readlines()]\n",
    "\n",
    "random_word = str(input(\"Enter a word : \"))\n",
    "while random_word.strip() == \"\":\n",
    "    print(\"Enter a word again.\")\n",
    "    random_word = str(input(\"Enter a word : \"))\n",
    "\n",
    "result = better_solution(random_word, dictionary)\n",
    "\n",
    "if result != [] :\n",
    "    print(\"Anagrams found:\")\n",
    "    for word in result:\n",
    "        print(word)\n",
    "else :\n",
    "    print(\"No anagram found.\")"
   ]
  }
 ],
 "metadata": {
  "kernelspec": {
   "display_name": "Python 3 (ipykernel)",
   "language": "python",
   "name": "python3"
  },
  "language_info": {
   "codemirror_mode": {
    "name": "ipython",
    "version": 3
   },
   "file_extension": ".py",
   "mimetype": "text/x-python",
   "name": "python",
   "nbconvert_exporter": "python",
   "pygments_lexer": "ipython3",
   "version": "3.11.5"
  }
 },
 "nbformat": 4,
 "nbformat_minor": 5
}
